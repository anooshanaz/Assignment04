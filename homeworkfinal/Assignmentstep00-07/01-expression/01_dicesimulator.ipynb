{
 "cells": [
  {
   "cell_type": "code",
   "execution_count": 1,
   "metadata": {},
   "outputs": [
    {
     "name": "stdout",
     "output_type": "stream",
     "text": [
      "diel in main() start as: 10\n",
      "Total of two dice is 9\n",
      "Total of two dice is 3\n",
      "Total of two dice is 7\n",
      "diel in main() is: 10\n"
     ]
    }
   ],
   "source": [
    "import random\n",
    "\n",
    "def roll_dice():\n",
    "    die1:int = random.randint(1,6)\n",
    "    die2:int = random.randint(1,6)\n",
    "    total:int = die1 + die2\n",
    "    print(f\"Total of two dice is {total}\")\n",
    "\n",
    "def main():\n",
    "    die1:int = 10\n",
    "    print(\"diel in main() start as: \" + str(die1))\n",
    "    roll_dice()\n",
    "    roll_dice()\n",
    "    roll_dice()\n",
    "    print(\"diel in main() is: \" + str(die1))\n",
    "\n",
    "if __name__ == \"__main__\":\n",
    "    main()"
   ]
  }
 ],
 "metadata": {
  "kernelspec": {
   "display_name": "Python 3",
   "language": "python",
   "name": "python3"
  },
  "language_info": {
   "codemirror_mode": {
    "name": "ipython",
    "version": 3
   },
   "file_extension": ".py",
   "mimetype": "text/x-python",
   "name": "python",
   "nbconvert_exporter": "python",
   "pygments_lexer": "ipython3",
   "version": "3.12.9"
  }
 },
 "nbformat": 4,
 "nbformat_minor": 2
}
