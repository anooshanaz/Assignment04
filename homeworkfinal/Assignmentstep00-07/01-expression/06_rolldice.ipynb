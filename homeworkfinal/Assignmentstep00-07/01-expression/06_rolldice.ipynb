{
 "cells": [
  {
   "cell_type": "code",
   "execution_count": 2,
   "metadata": {},
   "outputs": [
    {
     "name": "stdout",
     "output_type": "stream",
     "text": [
      "First die: 4\n",
      "Second die: 2\n",
      "total of two dice is 6\n"
     ]
    }
   ],
   "source": [
    "import random \n",
    "\n",
    "def dice():\n",
    "    die1:int = random.randint(1,6)\n",
    "    die2:int = random.randint(1,6)\n",
    "    total:int = die1 + die2\n",
    "    print(\"First die: \"+ str(die1))\n",
    "    print(\"Second die: \"+ str(die2))\n",
    "    print(f\"total of two dice is {total}\")\n",
    "\n",
    "if __name__ == \"__main__\":\n",
    "    dice()\n",
    "\n"
   ]
  }
 ],
 "metadata": {
  "kernelspec": {
   "display_name": "Python 3",
   "language": "python",
   "name": "python3"
  },
  "language_info": {
   "codemirror_mode": {
    "name": "ipython",
    "version": 3
   },
   "file_extension": ".py",
   "mimetype": "text/x-python",
   "name": "python",
   "nbconvert_exporter": "python",
   "pygments_lexer": "ipython3",
   "version": "3.12.9"
  }
 },
 "nbformat": 4,
 "nbformat_minor": 2
}
