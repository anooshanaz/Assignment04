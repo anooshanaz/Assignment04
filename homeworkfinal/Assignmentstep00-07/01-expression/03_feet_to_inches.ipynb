{
 "cells": [
  {
   "cell_type": "code",
   "execution_count": null,
   "metadata": {},
   "outputs": [
    {
     "name": "stdout",
     "output_type": "stream",
     "text": [
      "There are 60 inches in 5\n"
     ]
    }
   ],
   "source": [
    "inch:int = 12\n",
    "\n",
    "def foot():\n",
    "    feet:int = int(input(\"Enter feet and i will convert into inches: \"))\n",
    "    print(f\"There are {inch * feet} inches in {feet} feet\")\n",
    "\n",
    "if __name__ == \"__main__\":\n",
    "    foot()"
   ]
  }
 ],
 "metadata": {
  "kernelspec": {
   "display_name": "Python 3",
   "language": "python",
   "name": "python3"
  },
  "language_info": {
   "codemirror_mode": {
    "name": "ipython",
    "version": 3
   },
   "file_extension": ".py",
   "mimetype": "text/x-python",
   "name": "python",
   "nbconvert_exporter": "python",
   "pygments_lexer": "ipython3",
   "version": "3.12.9"
  }
 },
 "nbformat": 4,
 "nbformat_minor": 2
}
