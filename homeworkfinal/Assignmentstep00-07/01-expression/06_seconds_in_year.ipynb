{
 "cells": [
  {
   "cell_type": "code",
   "execution_count": 2,
   "metadata": {},
   "outputs": [
    {
     "name": "stdout",
     "output_type": "stream",
     "text": [
      "There are 31536000 in a year\n"
     ]
    }
   ],
   "source": [
    "day_in_year:int = 365\n",
    "hour_per_day:int = 24\n",
    "mint_per_hour:int = 60\n",
    "sec_per_mint:int = 60\n",
    "\n",
    "def second_in_year():\n",
    "    print(f\"There are {day_in_year * hour_per_day * mint_per_hour * sec_per_mint} in a year\")\n",
    "\n",
    "if __name__ == \"__main__\":\n",
    "    second_in_year()"
   ]
  }
 ],
 "metadata": {
  "kernelspec": {
   "display_name": "Python 3",
   "language": "python",
   "name": "python3"
  },
  "language_info": {
   "codemirror_mode": {
    "name": "ipython",
    "version": 3
   },
   "file_extension": ".py",
   "mimetype": "text/x-python",
   "name": "python",
   "nbconvert_exporter": "python",
   "pygments_lexer": "ipython3",
   "version": "3.12.9"
  }
 },
 "nbformat": 4,
 "nbformat_minor": 2
}
