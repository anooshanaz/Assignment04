{
 "cells": [
  {
   "cell_type": "code",
   "execution_count": null,
   "metadata": {},
   "outputs": [
    {
     "name": "stdout",
     "output_type": "stream",
     "text": [
      "Are you cool your code  kiran ?\n"
     ]
    }
   ],
   "source": [
    "\n",
    "def tiny_madlib():\n",
    "    noun:str = str(input(\"Enter an noun: \"))\n",
    "    adjective:str = str(input(\"Enter an adjective: \"))\n",
    "    verb:str = str(input(\"Enter a verb: \"))\n",
    "    print(f\"Do you {verb} your {adjective} {noun} ?\")\n",
    "\n",
    "if __name__ == \"__main__\":\n",
    "    tiny_madlib()"
   ]
  }
 ],
 "metadata": {
  "kernelspec": {
   "display_name": "Python 3",
   "language": "python",
   "name": "python3"
  },
  "language_info": {
   "codemirror_mode": {
    "name": "ipython",
    "version": 3
   },
   "file_extension": ".py",
   "mimetype": "text/x-python",
   "name": "python",
   "nbconvert_exporter": "python",
   "pygments_lexer": "ipython3",
   "version": "3.12.9"
  }
 },
 "nbformat": 4,
 "nbformat_minor": 2
}
