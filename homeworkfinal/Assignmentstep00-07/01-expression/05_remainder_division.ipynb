{
 "cells": [
  {
   "cell_type": "code",
   "execution_count": 1,
   "metadata": {},
   "outputs": [
    {
     "name": "stdout",
     "output_type": "stream",
     "text": [
      "The result of following divison is 1 with the reminder of 2\n"
     ]
    }
   ],
   "source": [
    "def reminder():\n",
    "    num1:int = int(input(\"Enter an interger to be divided: \"))\n",
    "    num2:int = int(input(\"Enter an interger to divided by: \"))\n",
    "    quotient:int = num1//num2\n",
    "    reminder:int = num1%num2\n",
    "    print(f\"The result of following divison is {quotient} with the reminder of {reminder}\")\n",
    "\n",
    "if __name__ == \"__main__\":\n",
    "    reminder()"
   ]
  }
 ],
 "metadata": {
  "kernelspec": {
   "display_name": "Python 3",
   "language": "python",
   "name": "python3"
  },
  "language_info": {
   "codemirror_mode": {
    "name": "ipython",
    "version": 3
   },
   "file_extension": ".py",
   "mimetype": "text/x-python",
   "name": "python",
   "nbconvert_exporter": "python",
   "pygments_lexer": "ipython3",
   "version": "3.12.9"
  }
 },
 "nbformat": 4,
 "nbformat_minor": 2
}
