{
 "cells": [
  {
   "cell_type": "code",
   "execution_count": 1,
   "metadata": {},
   "outputs": [
    {
     "name": "stdout",
     "output_type": "stream",
     "text": [
      "The length of bc (the hypothenuss is : 22.360679774997898)\n"
     ]
    }
   ],
   "source": [
    "import math\n",
    "\n",
    "def triangle():\n",
    "    ab:float = float(input(\"Eneter the length of side ac: \"))\n",
    "    ac:float = float(input(\"Enter the length of the side ac: \"))\n",
    "    bc:float = math.sqrt(ab**2 + ac**2)\n",
    "    print(f\"The length of bc (the hypothenuss is : {bc})\")\n",
    "\n",
    "if __name__ == \"__main__\":\n",
    "    triangle()"
   ]
  }
 ],
 "metadata": {
  "kernelspec": {
   "display_name": "Python 3",
   "language": "python",
   "name": "python3"
  },
  "language_info": {
   "codemirror_mode": {
    "name": "ipython",
    "version": 3
   },
   "file_extension": ".py",
   "mimetype": "text/x-python",
   "name": "python",
   "nbconvert_exporter": "python",
   "pygments_lexer": "ipython3",
   "version": "3.12.9"
  }
 },
 "nbformat": 4,
 "nbformat_minor": 2
}
