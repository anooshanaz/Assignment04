{
 "cells": [
  {
   "cell_type": "code",
   "execution_count": 1,
   "metadata": {},
   "outputs": [
    {
     "name": "stdout",
     "output_type": "stream",
     "text": [
      "m*c2\n",
      "Mass = 20.0kg\n",
      "C = 299792458kg\n",
      "e = 1.7975103574736353e+18jules\n"
     ]
    }
   ],
   "source": [
    "\n",
    "def energy():\n",
    "    c:float = 299792458\n",
    "    m:float = float(input(\"Enter kilos of mass: \"))\n",
    "    print(\"m*c2\")\n",
    "    print(\"Mass = \" + str(m) + \"kg\")\n",
    "    print(\"C = \" + str(c) + \"kg\")\n",
    "    print(\"e = \" + str(m * c ** 2) + \"jules\")\n",
    "\n",
    "if __name__ == \"__main__\":\n",
    "    energy()"
   ]
  }
 ],
 "metadata": {
  "kernelspec": {
   "display_name": "Python 3",
   "language": "python",
   "name": "python3"
  },
  "language_info": {
   "codemirror_mode": {
    "name": "ipython",
    "version": 3
   },
   "file_extension": ".py",
   "mimetype": "text/x-python",
   "name": "python",
   "nbconvert_exporter": "python",
   "pygments_lexer": "ipython3",
   "version": "3.12.9"
  }
 },
 "nbformat": 4,
 "nbformat_minor": 2
}
