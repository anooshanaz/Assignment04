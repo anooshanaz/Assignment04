{
 "cells": [
  {
   "cell_type": "markdown",
   "metadata": {},
   "source": [
    " Guess My Number\n",
    "\n",
    " I am thinking of a number between 0 and 99... Enter a guess: 50 Your guess is too high\n",
    "\n",
    "Enter a new number: 25 Your guess is too low\n",
    "\n",
    " Enter a new number: 40 Your guess is too low\n",
    "\n",
    "Enter a new number: 45 Your guess is too low\n",
    "\n",
    "Enter a new number: 48 Congrats! The number was: 48"
   ]
  },
  {
   "cell_type": "code",
   "execution_count": 9,
   "metadata": {},
   "outputs": [
    {
     "name": "stdout",
     "output_type": "stream",
     "text": [
      "54 Your guess is to high\n"
     ]
    }
   ],
   "source": [
    "import random\n",
    "\n",
    "secret_number = 48\n",
    "\n",
    "\n",
    "guess_num = random.randint(0,99)\n",
    "\n",
    "if guess_num > secret_number:\n",
    "    print(f\"{guess_num} Your guess is to high\")\n",
    "elif guess_num == secret_number:\n",
    "    print(f\"{guess_num} Congrats! The number was: 48\")\n",
    "else:\n",
    "     print(f\"{guess_num} Your guess is to low\")"
   ]
  }
 ],
 "metadata": {
  "kernelspec": {
   "display_name": "Python 3",
   "language": "python",
   "name": "python3"
  },
  "language_info": {
   "codemirror_mode": {
    "name": "ipython",
    "version": 3
   },
   "file_extension": ".py",
   "mimetype": "text/x-python",
   "name": "python",
   "nbconvert_exporter": "python",
   "pygments_lexer": "ipython3",
   "version": "3.12.9"
  }
 },
 "nbformat": 4,
 "nbformat_minor": 2
}
