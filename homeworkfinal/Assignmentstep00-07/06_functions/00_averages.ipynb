{
 "cells": [
  {
   "cell_type": "code",
   "execution_count": null,
   "metadata": {},
   "outputs": [],
   "source": [
    "\n",
    "def average(a: float, b: float):\n",
    "    \"\"\"\n",
    "    Returns the number which is half way between a and b\n",
    "    \"\"\"\n",
    "    sum = a + b\n",
    "    return sum / 2\n",
    "\n",
    "def main():\n",
    "    avg_1 = average(0, 10)\n",
    "    avg_2 = average(8, 10)\n",
    "    \n",
    "    final = average(avg_1, avg_2)\n",
    "    print(\"avg_1\", avg_1)\n",
    "    print(\"avg_2\", avg_2)\n",
    "    print(\"final\", final)\n",
    "    \n",
    "\n",
    "# There is no need to edit code beyond this point\n",
    "\n",
    "if __name__ == '__main__':\n",
    "    main()"
   ]
  }
 ],
 "metadata": {
  "language_info": {
   "name": "python"
  }
 },
 "nbformat": 4,
 "nbformat_minor": 2
}
