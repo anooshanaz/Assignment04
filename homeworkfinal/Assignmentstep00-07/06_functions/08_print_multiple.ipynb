{
 "cells": [
  {
   "cell_type": "code",
   "execution_count": null,
   "metadata": {},
   "outputs": [],
   "source": [
    "def multiply(message, repeat):\n",
    "    for i in range(repeat):\n",
    "        print(message)\n",
    "\n",
    "def main():\n",
    "    message = input(\"please type a message: \")\n",
    "    repeat = int(input(\"Enter a number of times to repeat your message: \")) \n",
    "    multiply(message,repeat)\n",
    "\n",
    "    \n",
    "if __name__ == '__main__':\n",
    "    main()"
   ]
  }
 ],
 "metadata": {
  "language_info": {
   "name": "python"
  }
 },
 "nbformat": 4,
 "nbformat_minor": 2
}
