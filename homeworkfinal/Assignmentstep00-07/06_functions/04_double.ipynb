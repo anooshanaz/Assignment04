{
 "cells": [
  {
   "cell_type": "code",
   "execution_count": null,
   "metadata": {},
   "outputs": [],
   "source": [
    "def double(num: int):\n",
    "    return num * 2\n",
    "\n",
    "# # There is no need to edit code beyond this point\n",
    "\n",
    "def main():\n",
    "    num = int(input(\"Enter a number: \"))\n",
    "    num_times_2 = double(num)\n",
    "    print(\"Double that is\", num_times_2)\n",
    "\n",
    "if __name__ == '__main__':\n",
    "    main()\n",
    "\n",
    "#code myself\n",
    "\n",
    "def duble_number():\n",
    "    n = int(input(\"Enter a number: \"))\n",
    "    result = n * 2\n",
    "    print(f\"Double that is {result}\")\n",
    "duble_number()"
   ]
  }
 ],
 "metadata": {
  "language_info": {
   "name": "python"
  }
 },
 "nbformat": 4,
 "nbformat_minor": 2
}
