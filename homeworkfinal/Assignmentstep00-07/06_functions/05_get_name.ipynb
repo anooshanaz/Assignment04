{
 "cells": [
  {
   "cell_type": "code",
   "execution_count": null,
   "metadata": {},
   "outputs": [],
   "source": [
    "def greeting(name:str):\n",
    "    return name\n",
    "\n",
    "def main():\n",
    "    use_name = greeting(\"Sofiya\")\n",
    "    print(f\"Howdy {use_name}! ☺️\")\n",
    "\n",
    "if __name__ == '__main__':\n",
    "    main()\n"
   ]
  }
 ],
 "metadata": {
  "language_info": {
   "name": "python"
  }
 },
 "nbformat": 4,
 "nbformat_minor": 2
}
