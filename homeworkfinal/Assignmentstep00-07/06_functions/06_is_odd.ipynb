{
 "cells": [
  {
   "cell_type": "code",
   "execution_count": null,
   "metadata": {},
   "outputs": [],
   "source": [
    "def main():\n",
    "    for i in range(10):\n",
    "        if is_odd(i):\n",
    "            print(\"odd\")\n",
    "        else:\n",
    "            print(\"even\") \n",
    "\n",
    "def is_odd(val:int):\n",
    "    reminder = val % 2\n",
    "    return reminder == 1\n",
    "\n",
    "if __name__ == '__main__':\n",
    "    main()"
   ]
  }
 ],
 "metadata": {
  "language_info": {
   "name": "python"
  }
 },
 "nbformat": 4,
 "nbformat_minor": 2
}
