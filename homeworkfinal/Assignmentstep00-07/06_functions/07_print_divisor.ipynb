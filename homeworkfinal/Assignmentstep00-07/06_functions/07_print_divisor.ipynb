{
 "cells": [
  {
   "cell_type": "code",
   "execution_count": null,
   "metadata": {},
   "outputs": [],
   "source": [
    "def divisor(num:int):\n",
    "    print(\"Here are the divisors of\",num)\n",
    "    for i in range(num):\n",
    "        curr_div = i + 1\n",
    "        if num % curr_div  == 0:\n",
    "            print(curr_div)\n",
    "            \n",
    "def main():\n",
    "    num = int(input(\"Enter a number: \"))\n",
    "    divisor(num)\n",
    "\n",
    "if __name__ == '__main__':\n",
    "    main()\n"
   ]
  }
 ],
 "metadata": {
  "language_info": {
   "name": "python"
  }
 },
 "nbformat": 4,
 "nbformat_minor": 2
}
