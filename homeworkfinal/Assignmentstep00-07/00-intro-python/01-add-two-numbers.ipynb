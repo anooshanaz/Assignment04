{
 "cells": [
  {
   "cell_type": "markdown",
   "metadata": {},
   "source": [
    " Write a Python program that takes two integer inputs from the user and calculates their sum. The program should perform the following tasks:\n",
    "\n",
    "Prompt the user to enter the first number.\n",
    "\n",
    " Read the input and convert it to an integer.\n",
    "\n",
    " Prompt the user to enter the second number.\n",
    "\n",
    " Read the input and convert it to an integer.\n",
    "\n",
    " Calculate the sum of the two numbers.\n",
    "\n",
    " Print the total sum with an appropriate message.\n",
    "\n",
    " The provided solution demonstrates a working implementation of this problem, where the main() function guides the user through the process of entering two numbers and displays their sum.\n"
   ]
  },
  {
   "cell_type": "code",
   "execution_count": 2,
   "metadata": {},
   "outputs": [
    {
     "name": "stdout",
     "output_type": "stream",
     "text": [
      "The total sum of two number is 5\n"
     ]
    }
   ],
   "source": [
    "def main():\n",
    "    \n",
    "    num1 = int(input(\"Enter your first number: \"))\n",
    "    num2 = int(input(\"Enter your second number: \"))\n",
    "\n",
    "    result = num1 + num2\n",
    "    print(f\"The total sum of two number is {result}\")\n",
    "\n",
    "if __name__ == '__main__':\n",
    "        main()\n"
   ]
  },
  {
   "cell_type": "code",
   "execution_count": null,
   "metadata": {},
   "outputs": [],
   "source": []
  }
 ],
 "metadata": {
  "kernelspec": {
   "display_name": "Python 3",
   "language": "python",
   "name": "python3"
  },
  "language_info": {
   "codemirror_mode": {
    "name": "ipython",
    "version": 3
   },
   "file_extension": ".py",
   "mimetype": "text/x-python",
   "name": "python",
   "nbconvert_exporter": "python",
   "pygments_lexer": "ipython3",
   "version": "3.12.9"
  }
 },
 "nbformat": 4,
 "nbformat_minor": 2
}
