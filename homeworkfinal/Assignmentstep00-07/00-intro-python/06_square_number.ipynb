{
 "cells": [
  {
   "cell_type": "markdown",
   "metadata": {},
   "source": [
    "Ask the user for a number and print its square (the product of the number times itself).\n",
    "\n",
    "Here's a sample run of the program (user input is in bold italics):\n",
    "\n",
    "Type a number to see its square: 4\n",
    "\n",
    "4.0 squared is 16.0\n",
    "\n"
   ]
  },
  {
   "cell_type": "code",
   "execution_count": 2,
   "metadata": {},
   "outputs": [
    {
     "name": "stdout",
     "output_type": "stream",
     "text": [
      "4.0 squared is 16.0\n"
     ]
    }
   ],
   "source": [
    "def main():\n",
    "    user_input = float(input(\"Type a number to see its square: \"))\n",
    "    res = user_input ** 2\n",
    "    print(f\"{user_input} squared is {res}\")\n",
    "\n",
    "if __name__ == \"__main__\":\n",
    "    main()"
   ]
  }
 ],
 "metadata": {
  "kernelspec": {
   "display_name": "Python 3",
   "language": "python",
   "name": "python3"
  },
  "language_info": {
   "codemirror_mode": {
    "name": "ipython",
    "version": 3
   },
   "file_extension": ".py",
   "mimetype": "text/x-python",
   "name": "python",
   "nbconvert_exporter": "python",
   "pygments_lexer": "ipython3",
   "version": "3.12.9"
  }
 },
 "nbformat": 4,
 "nbformat_minor": 2
}
