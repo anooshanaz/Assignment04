{
 "cells": [
  {
   "cell_type": "code",
   "execution_count": 1,
   "metadata": {},
   "outputs": [
    {
     "name": "stdout",
     "output_type": "stream",
     "text": [
      "List before: []\n",
      "List after: ['hello', 'hello', 'hello']\n"
     ]
    }
   ],
   "source": [
    "def add_two_copy(my_list,data):\n",
    "    for i in range(3):\n",
    "        my_list.append(data)\n",
    "\n",
    "def main():\n",
    "    message = input(\"Enter a message to copy: \")\n",
    "    my_list = []\n",
    "    print(\"List before:\", my_list)\n",
    "    add_two_copy(my_list, message)\n",
    "    print(\"List after:\", my_list)\n",
    "\n",
    "if __name__ == \"__main__\":\n",
    "    main()\n"
   ]
  }
 ],
 "metadata": {
  "kernelspec": {
   "display_name": "Python 3",
   "language": "python",
   "name": "python3"
  },
  "language_info": {
   "codemirror_mode": {
    "name": "ipython",
    "version": 3
   },
   "file_extension": ".py",
   "mimetype": "text/x-python",
   "name": "python",
   "nbconvert_exporter": "python",
   "pygments_lexer": "ipython3",
   "version": "3.12.9"
  }
 },
 "nbformat": 4,
 "nbformat_minor": 2
}
