{
 "cells": [
  {
   "cell_type": "code",
   "execution_count": 1,
   "metadata": {},
   "outputs": [
    {
     "name": "stdout",
     "output_type": "stream",
     "text": [
      "Updated number at index 0: 2\n",
      "Updated number at index 1: 4\n",
      "Updated number at index 2: 6\n",
      "Updated number at index 3: 8\n",
      "Updated number at index 4: 10\n"
     ]
    }
   ],
   "source": [
    "\n",
    "def main():\n",
    "    numbers: list[int] = [1, 2, 3, 4, 5]\n",
    "    for i in range(len(numbers)):\n",
    "        index = numbers[i]\n",
    "        numbers[i] = index * 2\n",
    "        print(f\"Updated number at index {i}: {numbers[i]}\")\n",
    "\n",
    "if __name__ == \"__main__\":\n",
    "    main()\n"
   ]
  }
 ],
 "metadata": {
  "kernelspec": {
   "display_name": "Python 3",
   "language": "python",
   "name": "python3"
  },
  "language_info": {
   "codemirror_mode": {
    "name": "ipython",
    "version": 3
   },
   "file_extension": ".py",
   "mimetype": "text/x-python",
   "name": "python",
   "nbconvert_exporter": "python",
   "pygments_lexer": "ipython3",
   "version": "3.12.9"
  }
 },
 "nbformat": 4,
 "nbformat_minor": 2
}
