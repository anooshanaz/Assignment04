{
 "cells": [
  {
   "cell_type": "code",
   "execution_count": 1,
   "metadata": {},
   "outputs": [
    {
     "name": "stdout",
     "output_type": "stream",
     "text": [
      "The list is: ['33', '33', '33']\n"
     ]
    }
   ],
   "source": [
    "def main():\n",
    "    lst = []\n",
    "    val = input(\"Enter a value to add to the list (leave empty to stop): \")\n",
    "    while val:  # loop until empty input\n",
    "        lst.append(val)\n",
    "        val = input(\"Enter a value to add to the list (leave empty to stop): \")\n",
    "    print(\"The list is:\", lst)\n",
    "\n",
    "if __name__ == \"__main__\":\n",
    "    main()\n"
   ]
  }
 ],
 "metadata": {
  "kernelspec": {
   "display_name": "Python 3",
   "language": "python",
   "name": "python3"
  },
  "language_info": {
   "codemirror_mode": {
    "name": "ipython",
    "version": 3
   },
   "file_extension": ".py",
   "mimetype": "text/x-python",
   "name": "python",
   "nbconvert_exporter": "python",
   "pygments_lexer": "ipython3",
   "version": "3.12.9"
  }
 },
 "nbformat": 4,
 "nbformat_minor": 2
}
