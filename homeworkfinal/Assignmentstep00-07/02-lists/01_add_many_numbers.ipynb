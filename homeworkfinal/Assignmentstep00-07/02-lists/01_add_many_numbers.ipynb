{
 "cells": [
  {
   "cell_type": "code",
   "execution_count": 9,
   "metadata": {},
   "outputs": [
    {
     "name": "stdout",
     "output_type": "stream",
     "text": [
      "Sum of numbers: 15\n"
     ]
    }
   ],
   "source": [
    "def add_numbers(numbers) -> int:\n",
    "    num = 0\n",
    "    for i in numbers:  # Fix the loop to iterate over 'numbers'\n",
    "        num += i\n",
    "    return num\n",
    "\n",
    "def result():\n",
    "    numbers = [1, 2, 3, 4, 5]\n",
    "    sum = add_numbers(numbers)\n",
    "    print(f\"Sum of numbers: {sum}\")\n",
    "\n",
    "result()  # Correctly calling the function once\n"
   ]
  }
 ],
 "metadata": {
  "kernelspec": {
   "display_name": "Python 3",
   "language": "python",
   "name": "python3"
  },
  "language_info": {
   "codemirror_mode": {
    "name": "ipython",
    "version": 3
   },
   "file_extension": ".py",
   "mimetype": "text/x-python",
   "name": "python",
   "nbconvert_exporter": "python",
   "pygments_lexer": "ipython3",
   "version": "3.12.9"
  }
 },
 "nbformat": 4,
 "nbformat_minor": 2
}
