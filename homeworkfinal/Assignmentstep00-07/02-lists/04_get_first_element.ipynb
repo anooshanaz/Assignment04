{
 "cells": [
  {
   "cell_type": "code",
   "execution_count": 1,
   "metadata": {},
   "outputs": [
    {
     "name": "stdout",
     "output_type": "stream",
     "text": [
      "2\n"
     ]
    }
   ],
   "source": [
    "def get_first_element(lst):\n",
    "    print(lst[0])\n",
    "\n",
    "def get_lst():\n",
    "    lst = []\n",
    "    element:str = input(\"Enter the element to add the list: \")\n",
    "    while element != \"\":\n",
    "        lst.append(element)\n",
    "        return lst\n",
    "    \n",
    "def main():\n",
    "    lst = get_lst()\n",
    "    get_first_element(lst)\n",
    "\n",
    "if __name__ == \"__main__\":\n",
    "    main()"
   ]
  }
 ],
 "metadata": {
  "kernelspec": {
   "display_name": "Python 3",
   "language": "python",
   "name": "python3"
  },
  "language_info": {
   "codemirror_mode": {
    "name": "ipython",
    "version": 3
   },
   "file_extension": ".py",
   "mimetype": "text/x-python",
   "name": "python",
   "nbconvert_exporter": "python",
   "pygments_lexer": "ipython3",
   "version": "3.12.9"
  }
 },
 "nbformat": 4,
 "nbformat_minor": 2
}
