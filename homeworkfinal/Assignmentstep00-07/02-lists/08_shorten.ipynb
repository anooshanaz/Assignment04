{
 "cells": [
  {
   "cell_type": "code",
   "execution_count": 1,
   "metadata": {},
   "outputs": [
    {
     "name": "stdout",
     "output_type": "stream",
     "text": [
      "90\n",
      "78\n",
      "56\n"
     ]
    }
   ],
   "source": [
    "MAX_LENGTH:int = 3\n",
    "def shorten(lst):\n",
    "    while len(lst) > MAX_LENGTH:\n",
    "        last_element = lst.pop()\n",
    "        print(last_element)\n",
    "\n",
    "def get_lst():\n",
    "    lst = []\n",
    "    elemnet = input(\"Enter a elemnt to add to the list: \")\n",
    "    while elemnet != \"\":\n",
    "        lst.append(elemnet)\n",
    "        elemnet = input(\"Enter a elemnt to add to the list: \")\n",
    "    return lst\n",
    "\n",
    "def main():\n",
    "    lst = get_lst()\n",
    "    shorten(lst)\n",
    "\n",
    "if __name__ == \"__main__\":\n",
    "    main()"
   ]
  }
 ],
 "metadata": {
  "kernelspec": {
   "display_name": "Python 3",
   "language": "python",
   "name": "python3"
  },
  "language_info": {
   "codemirror_mode": {
    "name": "ipython",
    "version": 3
   },
   "file_extension": ".py",
   "mimetype": "text/x-python",
   "name": "python",
   "nbconvert_exporter": "python",
   "pygments_lexer": "ipython3",
   "version": "3.12.9"
  }
 },
 "nbformat": 4,
 "nbformat_minor": 2
}
