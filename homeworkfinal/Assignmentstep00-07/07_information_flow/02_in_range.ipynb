{
 "cells": [
  {
   "cell_type": "markdown",
   "metadata": {},
   "source": [
    "mplement the following function which takes in 3 integers as parameters:\n",
    "\n",
    "def in_range(n, low, high) \"\"\" Returns True if n is between low and high, inclusive. high is guaranteed to be greater than low. \"\"\"\n",
    "\n",
    "Starter Code\n",
    "def main():\n",
    "    print(\"Delete this line and write your code here! :)\")\n",
    "\n"
   ]
  },
  {
   "cell_type": "code",
   "execution_count": 1,
   "metadata": {},
   "outputs": [
    {
     "name": "stdout",
     "output_type": "stream",
     "text": [
      "False\n"
     ]
    }
   ],
   "source": [
    "def in_range(n,high,low):\n",
    "    if n == low and n == high:\n",
    "        return True\n",
    "    return False\n",
    "\n",
    "result = in_range(1,5,10)\n",
    "print(result)"
   ]
  },
  {
   "cell_type": "code",
   "execution_count": null,
   "metadata": {},
   "outputs": [],
   "source": []
  }
 ],
 "metadata": {
  "kernelspec": {
   "display_name": "Python 3",
   "language": "python",
   "name": "python3"
  },
  "language_info": {
   "codemirror_mode": {
    "name": "ipython",
    "version": 3
   },
   "file_extension": ".py",
   "mimetype": "text/x-python",
   "name": "python",
   "nbconvert_exporter": "python",
   "pygments_lexer": "ipython3",
   "version": "3.12.9"
  }
 },
 "nbformat": 4,
 "nbformat_minor": 2
}
