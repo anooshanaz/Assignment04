{
 "cells": [
  {
   "cell_type": "markdown",
   "metadata": {},
   "source": [
    "We've written a helper function for you called greet(name) which takes as input a string name and prints a greeting. Write some code in main() to get the user's name and then greet them, being sure to call the greet(name) helper function.\n",
    "\n",
    "Here's a sample run of the program (user input in bold italics):\n",
    "\n",
    "What's your name? Sophia\n",
    "\n",
    "Greetings Sophia!\n"
   ]
  },
  {
   "cell_type": "code",
   "execution_count": null,
   "metadata": {},
   "outputs": [],
   "source": [
    "def greet(name:str):\n",
    "    print(\"Hello\",name)\n",
    "\n",
    "def main():\n",
    "    my_name = str(input(\"Enter Your Name:\"))\n",
    "    greet(my_name)\n",
    "\n",
    "if __name__ == \"__main__\":\n",
    "    main()"
   ]
  }
 ],
 "metadata": {
  "language_info": {
   "name": "python"
  }
 },
 "nbformat": 4,
 "nbformat_minor": 2
}
