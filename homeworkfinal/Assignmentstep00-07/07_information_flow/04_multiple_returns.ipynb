{
 "cells": [
  {
   "cell_type": "markdown",
   "metadata": {},
   "source": [
    "here are times where you are working with lots of different data within a function that you want to return. While generally, we want to keep functions to have a precise purpose, sometimes that purpose just deals with multiple bits of data.\n",
    "\n",
    "To practice this, imagine we are working on a program where the user needs to enters data to sign up for a website. Fill out the get_user_data() function which:\n",
    "\n",
    "Asks the user for their first name and stores it in a variable\n",
    "\n",
    "Asks the user for their last name and stores it in a variable\n",
    "\n",
    "Asks the user for their email address and stores it in a variable\n",
    "\n",
    "Returns all three of these pieces of data in the order it was asked\n",
    "\n",
    "You can return multiple pieces of data by separating each piece with a comma in the return line.\n",
    "\n",
    "Here is an example run of the program:\n",
    "\n",
    "What is your first name?: Jane\n",
    "\n",
    "What is your last name?: Stanford\n",
    "\n",
    "What is your email address?: janestanford@stanford.edu\n",
    "\n",
    "Received the following user data: ('Jane', 'Stanford', 'janestanford@stanford.edu')\n",
    "\n",
    "(Note. This idea is called tuple packing/unpacking. We \"pack\" our return values into a single data structure called a tuple. We can then \"unpack\" these values back into our original values or leave them as a tuple.)\n",
    "\n",
    "Starter Code\n",
    "def main():\n",
    "    print(\"Delete this line and write your code here! :)\")\n"
   ]
  },
  {
   "cell_type": "code",
   "execution_count": null,
   "metadata": {},
   "outputs": [],
   "source": [
    "def user_data():\n",
    "    first_name:str = str(input(\"What is your first name?\"))\n",
    "    last_name:str = str(input(\"What is your last name?\"))\n",
    "    email:str = str(input(\"What is your email address?\"))\n",
    "    return first_name, last_name, email\n",
    "\n",
    "def main():\n",
    "    get_user_data = user_data()\n",
    "    print(\"Received the following user data:\",get_user_data)\n",
    "\n",
    "if __name__ == '__main__':\n",
    "    main()"
   ]
  }
 ],
 "metadata": {
  "language_info": {
   "name": "python"
  }
 },
 "nbformat": 4,
 "nbformat_minor": 2
}
