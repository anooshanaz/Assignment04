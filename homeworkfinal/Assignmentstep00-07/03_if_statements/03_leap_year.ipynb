{
 "cells": [
  {
   "cell_type": "markdown",
   "metadata": {},
   "source": [
    "Write a program that reads a year from the user and tells whether a given year is a leap year or not.\n",
    "\n",
    "A leap year (also known as an intercalary year or bissextile year) is a calendar year that contains an additional day (or, in the case of a lunisolar calendar, a month) added to keep the calendar year synchronized with the astronomical year or seasonal year. In the Gregorian calendar, each leap year has 366 days instead of 365, by extending February to 29 days rather than the common 28.\n",
    "\n",
    "In the Gregorian calendar, three criteria must be checked to identify leap years:\n",
    "\n",
    "The given year must be evenly divisible by 4;\n",
    "If the year can also be evenly divided by 100, it is NOT a leap year; unless:\n",
    "The year is also evenly divisible by 400. Then it is a leap year.\n",
    "Your code should use the above criteria to check for a leap year and then print either \"That's a leap year!\" or \"That's not a leap year.\"await\n"
   ]
  },
  {
   "cell_type": "code",
   "execution_count": null,
   "metadata": {},
   "outputs": [],
   "source": [
    "def main():\n",
    "    year = int(\"Please input a year: \")\n",
    "\n",
    "    if year % 4 == 0:\n",
    "        if year % 100 == 0:\n",
    "            if year % 400 == 0:\n",
    "                print(\"That's a leap year!\")\n",
    "            else:\n",
    "                print(\"That's not a leap year.\")\n",
    "        else:\n",
    "            print(\"That's  a leap year.\")\n",
    "    else:\n",
    "        print(\"That's not a leap year.\")\n",
    "\n",
    "if __name__ == '__main__':\n",
    "    main()\n"
   ]
  },
  {
   "cell_type": "markdown",
   "metadata": {},
   "source": []
  }
 ],
 "metadata": {
  "language_info": {
   "name": "python"
  }
 },
 "nbformat": 4,
 "nbformat_minor": 2
}
