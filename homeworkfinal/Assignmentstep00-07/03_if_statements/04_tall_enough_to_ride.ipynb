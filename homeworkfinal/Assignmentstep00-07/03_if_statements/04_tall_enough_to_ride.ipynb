{
 "cells": [
  {
   "cell_type": "markdown",
   "metadata": {},
   "source": [
    "Write a program which asks the user how tall they are and prints whether or not they're taller than a pre-specified minimum height.\n",
    "\n",
    "In amusement parks (ah, the good old pre-pandemic days...), rollercoasters frequently have minimum height requirements for safety reasons. Assume for now that the minimum height is 50 of whatever height unit you'd like\n",
    "\n",
    "Here's two sample runs (user input is in bold italics):\n",
    "\n",
    "How tall are you? 100\n",
    "\n",
    "You're tall enough to ride!\n",
    "\n",
    "How tall are you? 10\n",
    "\n",
    "You're not tall enough to ride, but maybe next year!\n",
    "\n",
    "(For an extra challenge, write code which will repeatedly ask a user how tall they are and tell them whether or not they're tall enough to ride, until the user doesn't enter a height at all, in which case the program stops. Curious about how to do this? See the function tall_enough_extension() in the solution code!)\n",
    "\n"
   ]
  },
  {
   "cell_type": "code",
   "execution_count": null,
   "metadata": {},
   "outputs": [],
   "source": [
    "minimum_height:int = 50\n",
    "def main():\n",
    "    height_input = int(input(\"How tall are you?\"))\n",
    "    if height_input >= minimum_height:\n",
    "        print(\"You're tall enough to ride!\")\n",
    "    else:\n",
    "        print(\"You're not tall enough to ride, but maybe next year!\")\n",
    "\n",
    "if __name__ == '__main__':\n",
    "    main()"
   ]
  }
 ],
 "metadata": {
  "language_info": {
   "name": "python"
  }
 },
 "nbformat": 4,
 "nbformat_minor": 2
}
