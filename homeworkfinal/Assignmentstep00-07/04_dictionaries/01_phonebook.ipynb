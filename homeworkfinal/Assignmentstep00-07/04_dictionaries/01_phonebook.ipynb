{
 "cells": [
  {
   "cell_type": "code",
   "execution_count": 1,
   "metadata": {},
   "outputs": [
    {
     "name": "stdout",
     "output_type": "stream",
     "text": [
      "\n",
      "___Phonebook Menu___\n",
      "1. Add Contact\n",
      "2. Search Contact\n",
      "3. Delete Contact\n",
      "4. Display Contact\n",
      "Exist\n",
      "kiran added to the phonebook.\n",
      "\n",
      "___Phonebook Menu___\n",
      "1. Add Contact\n",
      "2. Search Contact\n",
      "3. Delete Contact\n",
      "4. Display Contact\n",
      "Exist\n",
      "Exiting Phonebook, Byee________\n"
     ]
    }
   ],
   "source": [
    "def add_contact(phonebook):\n",
    "    name = input(\"Enter contact name: \")\n",
    "    number = input(\"Enter a contact number: \")\n",
    "\n",
    "    if name in phonebook:\n",
    "        print(f\"{name} already exist in the phonebook.\")\n",
    "    else:\n",
    "        phonebook[name] = number\n",
    "        print(f\"{name} added to the phonebook.\")\n",
    "\n",
    "def search_contact(phonebook):\n",
    "    name = input(\"Enter contact name to search: \")\n",
    "\n",
    "    if name in phonebook:\n",
    "        print(f\"{name}: {phonebook[name]}\")\n",
    "    else:\n",
    "        print(f\"{name} not found in the phonebook\")\n",
    "\n",
    "def delete_contact(phonebook):\n",
    "    name = input(\"Enter contact name to delete: \")\n",
    "    if name in phonebook:\n",
    "        del phonebook[name]\n",
    "        print(f\"{name} deleted from the phonebook\")\n",
    "    else:\n",
    "        print(f\"{name} not found in the phonebook\")\n",
    "\n",
    "def display_contact(phonebook):\n",
    "    if phonebook:\n",
    "        print(\"\\n__Phonebook Contact List__\")\n",
    "        for name, number in phonebook.items():\n",
    "            print(f\"{name}: {number}\")\n",
    "        else:\n",
    "            print(\"Phonebook is empty.\")\n",
    "\n",
    "if __name__ == \"__main__\":\n",
    "    phonebook = {}\n",
    "\n",
    "    while True:\n",
    "        print(\"\\n___Phonebook Menu___\")\n",
    "        print(\"1. Add Contact\")\n",
    "        print(\"2. Search Contact\")\n",
    "        print(\"3. Delete Contact\")\n",
    "        print(\"4. Display Contact\")\n",
    "        print(\"Exist\")\n",
    "\n",
    "        choice = input(\"Enter your choice (1-5):\")\n",
    "\n",
    "        if choice == \"1\":\n",
    "            add_contact(phonebook)\n",
    "        elif choice == \"2\":\n",
    "            search_contact(phonebook)\n",
    "        elif choice == \"3\":\n",
    "            delete_contact(phonebook)\n",
    "        elif choice == \"4\":\n",
    "            display_contact(phonebook)\n",
    "        elif choice == \"5\":\n",
    "            print(\"Exiting Phonebook, Byee________\")\n",
    "            break\n",
    "        else:\n",
    "            print(\"Invalid Choices\")\n",
    "            "
   ]
  }
 ],
 "metadata": {
  "kernelspec": {
   "display_name": "Python 3",
   "language": "python",
   "name": "python3"
  },
  "language_info": {
   "codemirror_mode": {
    "name": "ipython",
    "version": 3
   },
   "file_extension": ".py",
   "mimetype": "text/x-python",
   "name": "python",
   "nbconvert_exporter": "python",
   "pygments_lexer": "ipython3",
   "version": "3.12.9"
  }
 },
 "nbformat": 4,
 "nbformat_minor": 2
}
