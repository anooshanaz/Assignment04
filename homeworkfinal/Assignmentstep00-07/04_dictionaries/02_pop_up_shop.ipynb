{
 "cells": [
  {
   "cell_type": "code",
   "execution_count": 1,
   "metadata": {},
   "outputs": [
    {
     "name": "stdout",
     "output_type": "stream",
     "text": [
      "Invalid input. Please enter a valid number.\n",
      "Invalid input. Please enter a valid number.\n",
      "\n",
      "Your total cost is ₹22500.00\n"
     ]
    }
   ],
   "source": [
    "def calculate_total_cost():\n",
    "    fruits_price = {\n",
    "        \"apple\": 150.0,\n",
    "        \"mango\": 200,\n",
    "        \"kiwi\": 70,\n",
    "        \"banana\": 50,\n",
    "        \"orange\": 120\n",
    "    }\n",
    "\n",
    "    total_cost = 0\n",
    "\n",
    "    for fruit, price in fruits_price.items():\n",
    "        while True:\n",
    "            try:\n",
    "                quantity = int(input(f\"How many {fruit}s do you want? \"))\n",
    "                if quantity < 0:\n",
    "                    print(\"Invalid input. Please enter a non-negative number.\")\n",
    "                    continue\n",
    "                total_cost += price * quantity\n",
    "                break\n",
    "            except ValueError:\n",
    "                print(\"Invalid input. Please enter a valid number.\")\n",
    "\n",
    "    print(f\"\\nYour total cost is ₹{total_cost:.2f}\")\n",
    "\n",
    "\n",
    "if __name__ == \"__main__\":\n",
    "    calculate_total_cost()\n",
    "\n"
   ]
  }
 ],
 "metadata": {
  "kernelspec": {
   "display_name": "Python 3",
   "language": "python",
   "name": "python3"
  },
  "language_info": {
   "codemirror_mode": {
    "name": "ipython",
    "version": 3
   },
   "file_extension": ".py",
   "mimetype": "text/x-python",
   "name": "python",
   "nbconvert_exporter": "python",
   "pygments_lexer": "ipython3",
   "version": "3.12.9"
  }
 },
 "nbformat": 4,
 "nbformat_minor": 2
}
