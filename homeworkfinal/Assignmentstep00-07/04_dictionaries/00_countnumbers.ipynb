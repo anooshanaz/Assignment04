{
 "cells": [
  {
   "cell_type": "code",
   "execution_count": 1,
   "metadata": {},
   "outputs": [
    {
     "name": "stdout",
     "output_type": "stream",
     "text": [
      "{22: 1}\n",
      "{22: 1, 33: 1}\n",
      "{22: 1, 33: 1, 44: 1}\n",
      "{22: 1, 33: 1, 44: 1, 778: 1}\n",
      "Invalid Input. Please enter a number or 'Exit'. \n",
      "Number Counts\n",
      "22 appear 1 times\n",
      "33 appear 1 times\n",
      "44 appear 1 times\n",
      "778 appear 1 times\n"
     ]
    }
   ],
   "source": [
    "def count_number():\n",
    "    count_dict = {}\n",
    "\n",
    "    while True:\n",
    "        num = input(\"Enter a number (or 'Exit' to quit): \")\n",
    "        if num.lower() == \"Exit\":\n",
    "            break\n",
    "        if num.isdigit():\n",
    "            num = int(num)\n",
    "            count_dict[num] = count_dict.get(num, 0) + 1\n",
    "            print(count_dict)\n",
    "        else:\n",
    "            print(\"Invalid Input. Please enter a number or 'Exit'. \")\n",
    "            return count_dict\n",
    "        \n",
    "def display_counts(count_dict):\n",
    "    print(\"Number Counts\")\n",
    "    for key,value in count_dict.items():\n",
    "        print(f\"{key} appear {value} times\")\n",
    "\n",
    "if __name__ == \"__main__\":\n",
    "    count = count_number()\n",
    "    display_counts(count)\n",
    "    "
   ]
  }
 ],
 "metadata": {
  "kernelspec": {
   "display_name": "Python 3",
   "language": "python",
   "name": "python3"
  },
  "language_info": {
   "codemirror_mode": {
    "name": "ipython",
    "version": 3
   },
   "file_extension": ".py",
   "mimetype": "text/x-python",
   "name": "python",
   "nbconvert_exporter": "python",
   "pygments_lexer": "ipython3",
   "version": "3.12.9"
  }
 },
 "nbformat": 4,
 "nbformat_minor": 2
}
