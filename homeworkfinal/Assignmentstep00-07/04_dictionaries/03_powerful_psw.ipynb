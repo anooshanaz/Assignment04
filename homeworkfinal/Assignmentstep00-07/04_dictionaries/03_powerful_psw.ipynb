{
 "cells": [
  {
   "cell_type": "code",
   "execution_count": 2,
   "metadata": {},
   "outputs": [
    {
     "name": "stdout",
     "output_type": "stream",
     "text": [
      "Login successful!\n"
     ]
    }
   ],
   "source": [
    "import hashlib\n",
    "\n",
    "def hash_password(password):\n",
    "    return hashlib.sha256(password.encode()).hexdigest()\n",
    "\n",
    "stored_login = {\n",
    "    \"user@gmail.com\": hash_password(\"password123\"),\n",
    "    \"admin@gmail.com\": hash_password(\"adminpass\")\n",
    "}\n",
    "\n",
    "def login(email, password):\n",
    "    if email in stored_login:\n",
    "        return stored_login[email] == hash_password(password)\n",
    "    return False\n",
    "\n",
    "if __name__ == \"__main__\":\n",
    "    email = input(\"Enter your email: \")\n",
    "    password = input(\"Enter your password: \")\n",
    "\n",
    "    if login(email, password):\n",
    "        print(\"Login successful!\")\n",
    "    else:\n",
    "        print(\"Invalid email or password.\")\n"
   ]
  }
 ],
 "metadata": {
  "kernelspec": {
   "display_name": "Python 3",
   "language": "python",
   "name": "python3"
  },
  "language_info": {
   "codemirror_mode": {
    "name": "ipython",
    "version": 3
   },
   "file_extension": ".py",
   "mimetype": "text/x-python",
   "name": "python",
   "nbconvert_exporter": "python",
   "pygments_lexer": "ipython3",
   "version": "3.12.9"
  }
 },
 "nbformat": 4,
 "nbformat_minor": 2
}
