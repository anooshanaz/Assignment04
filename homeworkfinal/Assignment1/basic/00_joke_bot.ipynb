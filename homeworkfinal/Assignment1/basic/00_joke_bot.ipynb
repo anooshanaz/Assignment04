{
 "cells": [
  {
   "cell_type": "markdown",
   "metadata": {},
   "source": [
    "Your program will need to use an if statement which checks if the user input is Joke:\n",
    "\n",
    "if user_input == \"Joke\":\n",
    "\n",
    "Recall that == is a comparison which tests if two values are equal to one another.\n",
    "\n",
    "Here is a full run of the program (user input is in blue):\n",
    "\n",
    "What do you want? Joke Here is a joke for you! Panaversity GPT - Sophia is heading out to the grocery store. A programmer tells her: get a liter of milk, and if they have eggs, get 12. Sophia returns with 13 liters of milk. The programmer asks why and Sophia replies: 'because they had eggs'\n"
   ]
  },
  {
   "cell_type": "code",
   "execution_count": 12,
   "metadata": {},
   "outputs": [
    {
     "name": "stdout",
     "output_type": "stream",
     "text": [
      "Sorry I only tell jokes.\n"
     ]
    }
   ],
   "source": [
    "\n",
    "PROMPT: str = \"What do you want? \"\n",
    "JOKE: str = \"Here is a joke for you! Sophia is heading out to the grocery store. A programmer tells her: get a liter of milk, and if they have eggs, get 12. Sophia returns with 13 liters of milk. The programmer asks why and Sophia replies: 'because they had eggs'\"\n",
    "SORRY: str = \"Sorry I only tell jokes.\"\n",
    "\n",
    "def main():\n",
    "  \n",
    "    user_input = input(\"Enter your joke: \").lower()\n",
    "    \n",
    "    if \"joke\" in user_input:\n",
    "        print(JOKE)\n",
    "    else:\n",
    "        print(SORRY)\n",
    "\n",
    "if __name__ == \"__main__\":\n",
    "    main()"
   ]
  }
 ],
 "metadata": {
  "kernelspec": {
   "display_name": "Python 3",
   "language": "python",
   "name": "python3"
  },
  "language_info": {
   "codemirror_mode": {
    "name": "ipython",
    "version": 3
   },
   "file_extension": ".py",
   "mimetype": "text/x-python",
   "name": "python",
   "nbconvert_exporter": "python",
   "pygments_lexer": "ipython3",
   "version": "3.12.9"
  }
 },
 "nbformat": 4,
 "nbformat_minor": 2
}
