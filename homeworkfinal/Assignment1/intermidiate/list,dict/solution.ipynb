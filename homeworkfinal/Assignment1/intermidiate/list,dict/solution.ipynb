{
 "cells": [
  {
   "cell_type": "code",
   "execution_count": 1,
   "metadata": {},
   "outputs": [
    {
     "name": "stdout",
     "output_type": "stream",
     "text": [
      "Update fruits list is ['apple', 'mango', 'banana', 'orange', 'grapes', 'peach']\n"
     ]
    }
   ],
   "source": [
    "#problem 1 list practice\n",
    "\n",
    "def main():\n",
    "    # Step 1: Create a list of fruits\n",
    "    fruits_list = [\"apple\",\"mango\",\"banana\",\"orange\",\"grapes\"]\n",
    "\n",
    "    # Step 2: Print the length of the list\n",
    "    fruits_list.append(\"peach\")\n",
    "\n",
    "    # Step 4: Print the updated list\n",
    "    print(f\"Update fruits list is {fruits_list}\")\n",
    "\n",
    "if __name__ == \"__main__\":\n",
    "    main()"
   ]
  },
  {
   "cell_type": "code",
   "execution_count": null,
   "metadata": {},
   "outputs": [
    {
     "name": "stdout",
     "output_type": "stream",
     "text": [
      "Invalid choice! Please enter 1, 2, 3, or 4\n",
      "\n",
      "Choose an operation:\n",
      "1. Access an element\n",
      "2. Modify an element\n",
      "3. Slice the list\n",
      "4. Exit\n",
      "Result: pineapple\n",
      "\n",
      "Choose an operation:\n",
      "1. Access an element\n",
      "2. Modify an element\n",
      "3. Slice the list\n",
      "4. Exit\n"
     ]
    }
   ],
   "source": [
    "#Problem #2: Index Game\n",
    "def access_element(lst,index):\n",
    "    \"\"\"Returns the element at the given index or an error message.\"\"\"\n",
    "    if 0 <= index < len(lst):\n",
    "        return lst[index]\n",
    "    return \"Error: Index output off range!\"\n",
    "\n",
    "def modify_element(lst,index,new_value):\n",
    "     \"\"\"Modifies the element at the given index with a new value.\"\"\"\n",
    "     if 0 <= index < len(lst):\n",
    "         lst[index] = new_value\n",
    "         return \"Element update successfully!\"\n",
    "\n",
    "def slice_list(lst,start,end):\n",
    "    \"\"\"Returns a sliced part of the list, handling out-of-range indices.\"\"\"\n",
    "    if 0 <= start < len(lst) and 0 <= end < len(lst) and start < end:\n",
    "        return lst[start,end]\n",
    "    return \"Error: Invalid slice index\"\n",
    "\n",
    "def main():\n",
    "    my_list = [\"apple\",\"mango\",\"banana\",\"orange\",\"grapes\"]\n",
    "\n",
    "    while True:\n",
    "        print(\"\\nChoose an operation:\")\n",
    "        print(\"1. Access an element\")\n",
    "        print(\"2. Modify an element\")\n",
    "        print(\"3. Slice the list\")\n",
    "        print(\"4. Exit\")\n",
    "\n",
    "        choice = input(\"Enter your choice: \")\n",
    "\n",
    "        if choice == \"1\":\n",
    "            index = int(input(\"Enter index\"))\n",
    "            print(\"Result:\", access_element(my_list,index))\n",
    "\n",
    "        elif choice == \"2\":\n",
    "            index = int(input(\"Enter index to modify: \"))\n",
    "            new_value = input(\"Enter a new value: \")\n",
    "            print(modify_element(my_list, index, new_value))\n",
    "            print(\"Updated List:\",my_list)\n",
    "\n",
    "        elif choice == \"3\":\n",
    "            start = int(input(\"Enter start index: \"))\n",
    "            end = int(input(\"Enter end index: \"))\n",
    "            print(\"Sliced list:\", slice_list(my_list,start,end))\n",
    "\n",
    "        elif choice == \"4\":\n",
    "            print(\"Goodbye😴\")\n",
    "            break\n",
    "\n",
    "        else:\n",
    "            print(\"Invalid choice! Please enter 1, 2, 3, or 4\")\n",
    "    \n",
    "main()"
   ]
  }
 ],
 "metadata": {
  "kernelspec": {
   "display_name": "Python 3",
   "language": "python",
   "name": "python3"
  },
  "language_info": {
   "codemirror_mode": {
    "name": "ipython",
    "version": 3
   },
   "file_extension": ".py",
   "mimetype": "text/x-python",
   "name": "python",
   "nbconvert_exporter": "python",
   "pygments_lexer": "ipython3",
   "version": "3.12.9"
  }
 },
 "nbformat": 4,
 "nbformat_minor": 2
}
