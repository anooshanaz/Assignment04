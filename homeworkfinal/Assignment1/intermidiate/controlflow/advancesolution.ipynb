{
 "cells": [
  {
   "cell_type": "code",
   "execution_count": 5,
   "metadata": {},
   "outputs": [
    {
     "name": "stdout",
     "output_type": "stream",
     "text": [
      "The equivalent weight on Jupiter: 283.2 kg\n"
     ]
    }
   ],
   "source": [
    "# Step 1: Get user input for Earth weight\n",
    "earth_weight = float(input(\"Enter a weight on Earth (kg): \"))\n",
    "\n",
    "# Step 2: Get user input for the planet name\n",
    "planet = input(\"Enter a planet: \")\n",
    "\n",
    "# Step 3: Dictionary storing gravitational constants\n",
    "gravity_multiplier = {\n",
    "    \"Mercury\": 0.376,\n",
    "    \"Venus\": 0.889,\n",
    "    \"Mars\": 0.378,\n",
    "    \"Jupiter\": 2.36,\n",
    "    \"Saturn\": 1.081,\n",
    "    \"Uranus\": 0.815,\n",
    "    \"Neptune\": 1.14\n",
    "}\n",
    "\n",
    "# Step 4: Calculate weight on the chosen planet\n",
    "planet_weight = earth_weight * gravity_multiplier[planet]\n",
    "\n",
    "# Step 5: Round to 2 decimal places\n",
    "planet_weight = round(planet_weight, 2)\n",
    "\n",
    "# Step 6: Display the result\n",
    "print(f\"The equivalent weight on {planet}: {planet_weight} kg\")\n",
    "\n",
    "\n",
    "\n",
    "\n",
    "\n"
   ]
  },
  {
   "cell_type": "code",
   "execution_count": 6,
   "metadata": {},
   "outputs": [
    {
     "name": "stdout",
     "output_type": "stream",
     "text": [
      "Your weight on Mars would be: 46.44 kg\n"
     ]
    }
   ],
   "source": [
    "# Step 1: Get user input for Earth weight\n",
    "earth_weight = float(input(\"Enter your weight on Earth (kg): \"))\n",
    "\n",
    "# Step 2: Get user input for the planet\n",
    "planet = input(\"Enter a planet: \")\n",
    "\n",
    "# Step 3: Define gravity multipliers\n",
    "if planet == \"Mercury\":\n",
    "    multiplier = 0.376\n",
    "elif planet == \"Venus\":\n",
    "    multiplier = 0.899\n",
    "elif planet == \"Mars\":\n",
    "    multiplier = 0.387\n",
    "elif planet == \"Jupiter\":\n",
    "    multiplier = 2.36\n",
    "elif planet == \"Saturn\":\n",
    "    multiplier = 1.081\n",
    "elif planet == \"Uranus\":\n",
    "    multiplier = 0.815\n",
    "elif planet == \"Neptune\":\n",
    "    multiplier = 1.14\n",
    "\n",
    "# Step 4: Calculate weight on the selected planet\n",
    "planet_weight = earth_weight * multiplier\n",
    "\n",
    "# Step 5: Round the result to 2 decimal places\n",
    "planet_weight = round(planet_weight, 2)\n",
    "\n",
    "# Step 6: Display the result\n",
    "print(f\"Your weight on {planet} would be: {planet_weight} kg\")\n",
    "\n",
    "\n",
    "\n"
   ]
  }
 ],
 "metadata": {
  "kernelspec": {
   "display_name": "Python 3",
   "language": "python",
   "name": "python3"
  },
  "language_info": {
   "codemirror_mode": {
    "name": "ipython",
    "version": 3
   },
   "file_extension": ".py",
   "mimetype": "text/x-python",
   "name": "python",
   "nbconvert_exporter": "python",
   "pygments_lexer": "ipython3",
   "version": "3.12.9"
  }
 },
 "nbformat": 4,
 "nbformat_minor": 2
}
