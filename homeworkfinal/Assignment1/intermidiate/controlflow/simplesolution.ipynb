{
 "cells": [
  {
   "cell_type": "code",
   "execution_count": 2,
   "metadata": {},
   "outputs": [
    {
     "name": "stdout",
     "output_type": "stream",
     "text": [
      "Your weight of mars would be: 26.46 kg\n"
     ]
    }
   ],
   "source": [
    "# Step 1: Get user input for Earth weight\n",
    "earth_weight = int(input(\"Enter your weight on Earth (kg): \"))\n",
    "\n",
    "# Step 2: Calculate Mars weight\n",
    "mars_weight = earth_weight * 0.378\n",
    "\n",
    "# Step 3: Round to 2 decimal places\n",
    "mars_weight = round(mars_weight, 2)\n",
    "\n",
    "# Step 4: Display the result\n",
    "print(f\"Your weight of mars would be: {mars_weight} kg\")\n",
    "\n",
    "\n",
    "\n"
   ]
  },
  {
   "cell_type": "markdown",
   "metadata": {},
   "source": [
    "Breakdown of Functions Used:\n",
    "input() → Takes user input as a string.\n",
    "\n",
    "float() → Converts input to a floating-point number.\n",
    "\n",
    "* 0.378 → Calculates weight on Mars.\n",
    "\n",
    "round(value, 2) → Rounds the value to two decimal places.\n",
    "\n",
    "print(f\"...\") → Uses f-string formatting to display output."
   ]
  }
 ],
 "metadata": {
  "kernelspec": {
   "display_name": "Python 3",
   "language": "python",
   "name": "python3"
  },
  "language_info": {
   "codemirror_mode": {
    "name": "ipython",
    "version": 3
   },
   "file_extension": ".py",
   "mimetype": "text/x-python",
   "name": "python",
   "nbconvert_exporter": "python",
   "pygments_lexer": "ipython3",
   "version": "3.12.9"
  }
 },
 "nbformat": 4,
 "nbformat_minor": 2
}
