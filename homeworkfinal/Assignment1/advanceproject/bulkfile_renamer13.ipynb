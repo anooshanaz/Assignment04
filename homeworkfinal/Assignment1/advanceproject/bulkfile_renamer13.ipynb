{
 "cells": [
  {
   "cell_type": "code",
   "execution_count": 1,
   "id": "b3c21c63",
   "metadata": {},
   "outputs": [
    {
     "name": "stdout",
     "output_type": "stream",
     "text": [
      "🎮 Welcome to the Bulk File Renamer Game!\n",
      "❌ Error: [WinError 3] The system cannot find the path specified: '30dayofpythonchallege'\n"
     ]
    }
   ],
   "source": [
    "import os\n",
    "\n",
    "def bulk_file_renamer(folder_path, new_base_name, extension_filter=None):\n",
    "    try:\n",
    "        files = os.listdir(folder_path)\n",
    "        files = [f for f in files if os.path.isfile(os.path.join(folder_path, f))]\n",
    "\n",
    "        if extension_filter:\n",
    "            files = [f for f in files if f.endswith(extension_filter)]\n",
    "\n",
    "        print(f\"\\nTotal files to rename: {len(files)}\")\n",
    "\n",
    "        for index, filename in enumerate(files, start=1):\n",
    "            ext = os.path.splitext(filename)[1]\n",
    "            new_name = f\"{new_base_name}_{index:03d}{ext}\"\n",
    "            old_path = os.path.join(folder_path, filename)\n",
    "            new_path = os.path.join(folder_path, new_name)\n",
    "\n",
    "            os.rename(old_path, new_path)\n",
    "            print(f\"{filename} ➡️ {new_name}\")\n",
    "\n",
    "        print(\"\\n✅ All files renamed successfully!\")\n",
    "\n",
    "    except Exception as e:\n",
    "        print(f\"❌ Error: {e}\")\n",
    "\n",
    "# 🎮 Game Start\n",
    "print(\"🎮 Welcome to the Bulk File Renamer Game!\")\n",
    "\n",
    "folder = input(\"📂 Enter the folder path: \")\n",
    "base_name = input(\"📝 Enter new base name (e.g., Vacation): \")\n",
    "ext_filter = input(\"🎯 Filter by file extension (e.g., .jpg) or leave blank: \")\n",
    "\n",
    "bulk_file_renamer(folder, base_name, ext_filter if ext_filter else None)\n"
   ]
  }
 ],
 "metadata": {
  "kernelspec": {
   "display_name": "Python 3",
   "language": "python",
   "name": "python3"
  },
  "language_info": {
   "codemirror_mode": {
    "name": "ipython",
    "version": 3
   },
   "file_extension": ".py",
   "mimetype": "text/x-python",
   "name": "python",
   "nbconvert_exporter": "python",
   "pygments_lexer": "ipython3",
   "version": "3.12.9"
  }
 },
 "nbformat": 4,
 "nbformat_minor": 5
}
