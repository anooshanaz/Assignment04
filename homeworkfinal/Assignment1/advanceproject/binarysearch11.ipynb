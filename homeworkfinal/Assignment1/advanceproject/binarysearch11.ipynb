{
 "cells": [
  {
   "cell_type": "code",
   "execution_count": 3,
   "metadata": {},
   "outputs": [
    {
     "name": "stdout",
     "output_type": "stream",
     "text": [
      "Welcome to the Binary Search Guessing Game!\n",
      "I have selected a number between 1 and 100.\n",
      "Try to guess it using binary search strategy!\n",
      "\n",
      "Current range: 1 to 100\n",
      "Your guessed: 50\n",
      "Too high! ⬆️\n",
      "\n",
      "Current range: 1 to 49\n",
      "Your guessed: 25\n",
      "Too low! ⬇️\n",
      "\n",
      "Current range: 26 to 49\n",
      "Your guessed: 37\n",
      "Too high! ⬆️\n",
      "\n",
      "Current range: 26 to 36\n",
      "Your guessed: 31\n",
      "Too low! ⬇️\n",
      "\n",
      "Current range: 32 to 36\n",
      "Your guessed: 34\n",
      "Too low! ⬇️\n",
      "\n",
      "Current range: 35 to 36\n",
      "Your guessed: 35\n",
      "Too low! ⬇️\n",
      "\n",
      "Current range: 36 to 36\n",
      "Your guessed: 36\n",
      "🎉 Congratulations! You guessed it in 7 tries.\n"
     ]
    }
   ],
   "source": [
    "import random\n",
    "\n",
    "def binary_search():\n",
    "    print(\"Welcome to the Binary Search Guessing Game!\")\n",
    "    print(\"I have selected a number between 1 and 100.\")\n",
    "    print(\"Try to guess it using binary search strategy!\")\n",
    "\n",
    "    # Secret number chosen by the computer\n",
    "    secret_number = random.randint(1, 100)\n",
    "\n",
    "    # Range for guessing\n",
    "    low = 1\n",
    "    high = 100\n",
    "    attempt = 0\n",
    "\n",
    "    while low <= high:\n",
    "        print(f\"\\nCurrent range: {low} to {high}\")\n",
    "        guess = (low + high) // 2\n",
    "        print(f\"Your guessed: {guess}\")\n",
    "        attempt += 1\n",
    "\n",
    "        if guess == secret_number:\n",
    "            print(f\"🎉 Congratulations! You guessed it in {attempt} tries.\")\n",
    "            break\n",
    "        elif guess < secret_number:\n",
    "            print(\"Too low! ⬇️\")\n",
    "            low = guess + 1\n",
    "        else:\n",
    "            print(\"Too high! ⬆️\")\n",
    "            high = guess - 1\n",
    "\n",
    "# Start the game\n",
    "binary_search()\n"
   ]
  }
 ],
 "metadata": {
  "kernelspec": {
   "display_name": "Python 3",
   "language": "python",
   "name": "python3"
  },
  "language_info": {
   "codemirror_mode": {
    "name": "ipython",
    "version": 3
   },
   "file_extension": ".py",
   "mimetype": "text/x-python",
   "name": "python",
   "nbconvert_exporter": "python",
   "pygments_lexer": "ipython3",
   "version": "3.12.9"
  }
 },
 "nbformat": 4,
 "nbformat_minor": 2
}
