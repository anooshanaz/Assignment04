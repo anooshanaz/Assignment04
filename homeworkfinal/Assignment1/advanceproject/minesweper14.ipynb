{
 "cells": [
  {
   "cell_type": "code",
   "execution_count": 5,
   "id": "9e3d9efb",
   "metadata": {},
   "outputs": [
    {
     "name": "stdout",
     "output_type": "stream",
     "text": [
      "Minesweeper Game (3x3)\n",
      "Board:\n",
      "- - -\n",
      "- - -\n",
      "- - -\n",
      "✅ Safe! You survived.\n",
      "Mine was at: (2, 2)\n"
     ]
    }
   ],
   "source": [
    "import random\n",
    "\n",
    "# Mine position\n",
    "mine_row = random.randint(0, 2)\n",
    "mine_col = random.randint(0, 2)\n",
    "\n",
    "# Show empty board\n",
    "print(\"Minesweeper Game (3x3)\")\n",
    "print(\"Board:\")\n",
    "print(\"- - -\")\n",
    "print(\"- - -\")\n",
    "print(\"- - -\")\n",
    "\n",
    "# Take user guess\n",
    "row = int(input(\"Enter row (0-2): \"))\n",
    "col = int(input(\"Enter col (0-2): \"))\n",
    "\n",
    "# Check result\n",
    "if row == mine_row and col == mine_col:\n",
    "    print(\"💥 You hit the mine! Game Over.\")\n",
    "else:\n",
    "    print(\"✅ Safe! You survived.\")\n",
    "\n",
    "# Show where the mine was\n",
    "print(f\"Mine was at: ({mine_row}, {mine_col})\")\n"
   ]
  }
 ],
 "metadata": {
  "kernelspec": {
   "display_name": "Python 3",
   "language": "python",
   "name": "python3"
  },
  "language_info": {
   "codemirror_mode": {
    "name": "ipython",
    "version": 3
   },
   "file_extension": ".py",
   "mimetype": "text/x-python",
   "name": "python",
   "nbconvert_exporter": "python",
   "pygments_lexer": "ipython3",
   "version": "3.12.9"
  }
 },
 "nbformat": 4,
 "nbformat_minor": 5
}
